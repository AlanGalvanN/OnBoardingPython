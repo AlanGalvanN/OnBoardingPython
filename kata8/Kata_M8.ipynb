{
 "cells": [
  {
   "cell_type": "code",
   "execution_count": 10,
   "metadata": {},
   "outputs": [
    {
     "name": "stdout",
     "output_type": "stream",
     "text": [
      "Earth\n",
      "name: jupitercm\n",
      "moons: 1cm\n",
      "There was 9.8cm in the last quarter\n",
      "ERROR! Session/line number was not unique in database. History logging moved to new session 153\n"
     ]
    }
   ],
   "source": [
    "planet = {\n",
    "    'name': 'Earth',\n",
    "    'moons': 1\n",
    "}\n",
    "print(planet[\"name\"])\n",
    "\n",
    "#modificar valor \n",
    "planet[\"name\"]=\"jupiter\"\n",
    "\n",
    "#recorer clave y valor \n",
    "for key in planet.keys():\n",
    "    print(f'{key}: {planet[key]}cm')\n",
    "\n",
    "#recuperar todos los valores \n",
    "rainfall = {\n",
    "    'october': 3.5,\n",
    "    'november': 4.2,\n",
    "    'december': 2.1\n",
    "}\n",
    "\n",
    "total_rainfall = 0\n",
    "\n",
    "# Para cada valor en los valores de rainfall\n",
    "for value in rainfall.values():\n",
    "    \n",
    "    # El total de las precipitaciones será igual a ese mismo + el valor que se está iterando\n",
    "\n",
    "    total_rainfall = total_rainfall + value\n",
    "\n",
    "# Muestra 'Hay un total de precipitaciones (el valor total) en centímetros en el último cuarto (haciendo referencia al cuarto del año)\n",
    "\n",
    "print(f'There was {total_rainfall}cm in the last quarter')\n",
    "\n",
    "# Salida:\n",
    "# There was 10.8cm in the last quarter"
   ]
  },
  {
   "cell_type": "markdown",
   "metadata": {},
   "source": [
    "Ejercicio 1: Creación de diccionarios de Python\n",
    "\n",
    "#Para este ejercicio, crearás un diccionario que almacene información sobre el planeta Marte.\n",
    "\n",
    "    TIP Dedica unos minutos para tratar de encontrar una solución. Luego desplázate hacia abajo hasta la parte inferior para ver si has logrado compilar el programa de acuerdo con las especificaciones\n",
    "\n",
    "Agrega el código para crear un nuevo diccionario denominado 'planet'. Rellena con la siguiente información:\n",
    "\n",
    "name: Mars\n",
    "\n",
    "moons: 2\n",
    "\n",
    "Crea un diccionario llamado planet con los datos propuestos\n",
    "\n",
    "Para recuperar valores, puede utilizar el método get o corchetes ([ ]) con el nombre de la clave que desea recuperar.\n",
    "\n",
    "# Muestra el nombre del planeta y el número de lunas que tiene.\n",
    "\n"
   ]
  },
  {
   "cell_type": "code",
   "execution_count": 11,
   "metadata": {},
   "outputs": [
    {
     "name": "stdout",
     "output_type": "stream",
     "text": [
      "El planeta Marte teine 2 lunas\n"
     ]
    }
   ],
   "source": [
    "planeta = {\"nombre\": \"Marte\",\"Lunas\": 2}\n",
    "print(f\"El planeta {planeta['nombre']} teine {planeta['Lunas']} lunas\")\n"
   ]
  },
  {
   "cell_type": "markdown",
   "metadata": {},
   "source": [
    "\n",
    "\n",
    "Puedes actualizar las claves existentes o crear otras nuevas utilizando el método update o entre corchetes ([ ]). Cuando se usa update, se pasa un nuevo objeto de diccionario con los valores actualizados o nuevos. Cuando se usan corchetes, se especifica el nombre de la clave y se asigna un nuevo valor.\n",
    "\n",
    "demo['new_key'] = 'New value'\n",
    "\n",
    "Agrega un nuevo valor con una clave de 'circunferencia (km)'. Este nuevo valor debería almacenar un diccionario con las dos circunferencias del planeta:\n",
    "\n",
    "polar: 6752\n",
    "equatorial: 6792\n",
    "\n",
    "# Agrega la clave circunferencia con los datos proporcionados previamente\n",
    "\n",
    "Imprime el nombre del planeta con su circunferencia polar.\n"
   ]
  },
  {
   "cell_type": "code",
   "execution_count": 12,
   "metadata": {},
   "outputs": [
    {
     "name": "stdout",
     "output_type": "stream",
     "text": [
      "El planeta Marte tiene una circunferencia polar 6752 \n"
     ]
    }
   ],
   "source": [
    "planeta[\"Circunferencia km\"] = {\n",
    "    \"polar\": 6752, \n",
    "    \"equuatorial\": 6792\n",
    "}\n",
    "print(f\"El planeta {planeta['nombre']} tiene una circunferencia polar {planeta['Circunferencia km']['polar']} \")"
   ]
  },
  {
   "cell_type": "markdown",
   "metadata": {},
   "source": [
    "\n",
    "Ejercicio 2: Programación dinámica con diccionarios\n",
    "Ejercicio: Cálculo de valores\n",
    "\n",
    "En este escenario, calcularás tanto el número total de lunas en el sistema solar como el número promedio de lunas que tiene un planeta.\n",
    "\n",
    "# Planets and moons"
   ]
  },
  {
   "cell_type": "code",
   "execution_count": 13,
   "metadata": {},
   "outputs": [],
   "source": [
    "planet_moons = {\n",
    "    'mercury': 0,\n",
    "    'venus': 0,\n",
    "    'earth': 1,\n",
    "    'mars': 2,\n",
    "    'jupiter': 79,\n",
    "    'saturn': 82,\n",
    "    'uranus': 27,\n",
    "    'neptune': 14,\n",
    "    'pluto': 5,\n",
    "    'haumea': 2,\n",
    "    'makemake': 1,\n",
    "    'eris': 1\n",
    "}"
   ]
  },
  {
   "cell_type": "markdown",
   "metadata": {},
   "source": [
    "\n",
    "\n",
    "Los diccionarios de Python te permiten recuperar todos los valores y claves utilizando los métodos values y keys, respectivamente. Cada método devuelve una lista que contiene los datos, que luego se puede usar como una lista normal de Python. Puedes determinar el número de elementos mediante len, e iterar a través de él mediante un ciclo for.\n",
    "\n",
    "Agrega el código a continuación para determinar el número de lunas. Comienza almacenando el valor values de planet_moons en una variable denominada moons. A continuación, almacena el número de planetas en una variable denominada planets.\n",
    "\n",
    "# Añade el código para determinar el número de lunas.\n",
    "\n"
   ]
  },
  {
   "cell_type": "code",
   "execution_count": 14,
   "metadata": {},
   "outputs": [],
   "source": [
    "lunas = planet_moons.values()\n",
    "planetas = len(planet_moons.keys())\n"
   ]
  },
  {
   "cell_type": "markdown",
   "metadata": {},
   "source": [
    "\n",
    "\n",
    "Agrega el código para contar el número de lunas. Puedes hacerlo creando un ciclo for para iterar a través de las lunas moons y agregándolos a una variable denominada total_moons. Finalmente calcule el promedio dividiendo total_moons por planets e imprimiendo los resultados.\n",
    "\n",
    "# Agrega el código para contar el número de lunas. \n",
    "\n"
   ]
  },
  {
   "cell_type": "code",
   "execution_count": 15,
   "metadata": {},
   "outputs": [
    {
     "name": "stdout",
     "output_type": "stream",
     "text": [
      "0.0917440894358701\n"
     ]
    }
   ],
   "source": [
    "total_lunas_media = 0\n",
    "for luna in lunas:\n",
    "    total_lunas_media = (total_lunas_media+luna)/planetas\n",
    "print(total_lunas_media)"
   ]
  }
 ],
 "metadata": {
  "interpreter": {
   "hash": "e7370f93d1d0cde622a1f8e1c04877d8463912d04d973331ad4851f04de6915a"
  },
  "kernelspec": {
   "display_name": "Python 3.8.10 64-bit",
   "language": "python",
   "name": "python3"
  },
  "language_info": {
   "codemirror_mode": {
    "name": "ipython",
    "version": 3
   },
   "file_extension": ".py",
   "mimetype": "text/x-python",
   "name": "python",
   "nbconvert_exporter": "python",
   "pygments_lexer": "ipython3",
   "version": "3.8.10"
  },
  "orig_nbformat": 4
 },
 "nbformat": 4,
 "nbformat_minor": 2
}
